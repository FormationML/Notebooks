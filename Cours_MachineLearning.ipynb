{
 "cells": [
  {
   "cell_type": "markdown",
   "metadata": {},
   "source": [
    "# Introduction au Machine Learning \n",
    "\n",
    "Ce notebook permet d'introduire les principales méthodes de regroupement (clustering) et de classification utilisés dans le Machine Learning. \n",
    "Pour cela, nous allons utiliser la bibliothèque Scikit-learn de Python.\n",
    "\n",
    "Pour en savoir plus et consulter la documentation très détaillée de cette bibliothèque : https://scikit-learn.org/stable/index.html#"
   ]
  },
  {
   "cell_type": "markdown",
   "metadata": {},
   "source": [
    "## Méthode de clustering \n",
    "\n",
    "Ces méthodes sont des méthodes non-supervisées, c'est-à-dire qu'il n'existe pas à priori d'étiquettes associées à chaque valeur. \n",
    "\n"
   ]
  },
  {
   "cell_type": "markdown",
   "metadata": {},
   "source": [
    "### KMEANS"
   ]
  },
  {
   "cell_type": "code",
   "execution_count": null,
   "metadata": {},
   "outputs": [],
   "source": [
    "import matplotlib.pyplot as plt \n",
    "from sklearn.datasets import make_blobs\n",
    "from sklearn.cluster import KMeans"
   ]
  },
  {
   "cell_type": "code",
   "execution_count": null,
   "metadata": {},
   "outputs": [],
   "source": [
    "X,y = make_blobs(n_samples = 250, n_features = 2, centers = 3, cluster_std = 0.5, shuffle=True, random_state = 0)"
   ]
  },
  {
   "cell_type": "code",
   "execution_count": null,
   "metadata": {},
   "outputs": [],
   "source": [
    "plt.scatter(X[:,0],X[:,1], c= 'white', marker = 'o', edgecolor = 'black', s = 50)\n",
    "plt.grid()\n",
    "plt.show()"
   ]
  },
  {
   "cell_type": "code",
   "execution_count": null,
   "metadata": {},
   "outputs": [],
   "source": [
    "km = KMeans(n_clusters=3,init = 'random', max_iter = 300,tol = 1e-04,random_state=0)\n",
    "y_km = km.fit_predict(X)"
   ]
  },
  {
   "cell_type": "code",
   "execution_count": null,
   "metadata": {
    "scrolled": false
   },
   "outputs": [],
   "source": [
    "plt.scatter(X[y_km == 0,0],X[y_km == 0,1], s=50, c='lightgreen', marker = 's', edgecolor = 'black',label= 'cluster 1')\n",
    "plt.scatter(X[y_km == 1,0],X[y_km == 1,1], s=50, c='orange', marker = 'o', edgecolor = 'black',label= 'cluster 2')\n",
    "plt.scatter(X[y_km == 2,0],X[y_km == 2,1], s=50, c='lightblue', marker = 'v', edgecolor = 'black',label= 'cluster 3')\n",
    "plt.scatter(km.cluster_centers_[:,0],km.cluster_centers_[:,1], s = 250, marker = '*', c = 'red', edgecolor = 'black', label = 'centroids')\n",
    "plt.legend(scatterpoints=1)\n",
    "plt.grid()\n",
    "    "
   ]
  },
  {
   "cell_type": "code",
   "execution_count": null,
   "metadata": {},
   "outputs": [],
   "source": [
    "from sklearn.datasets import make_moons\n",
    "X,y = make_moons(n_samples = 200, noise = 0.05, random_state = 0)\n",
    "plt.scatter(X[:,0],X[:,1],c= 'white', marker = 'o', edgecolor = 'black', s = 50)\n",
    "plt.grid()\n",
    "plt.show()"
   ]
  },
  {
   "cell_type": "code",
   "execution_count": null,
   "metadata": {
    "scrolled": true
   },
   "outputs": [],
   "source": [
    "km = KMeans(n_clusters=2,init = 'random', max_iter = 300,tol = 1e-04,random_state=0)\n",
    "y_km = km.fit_predict(X)\n",
    "plt.scatter(X[y_km == 0,0],X[y_km == 0,1], s=50, c='lightgreen', marker = 's', edgecolor = 'black',label= 'cluster 1')\n",
    "plt.scatter(X[y_km == 1,0],X[y_km == 1,1], s=50, c='orange', marker = 'o', edgecolor = 'black',label= 'cluster 2')\n",
    "plt.scatter(km.cluster_centers_[:,0],km.cluster_centers_[:,1], s = 250, marker = '*', c = 'red', edgecolor = 'black', label = 'centroids')\n",
    "plt.legend(scatterpoints=1)\n",
    "plt.grid()"
   ]
  },
  {
   "cell_type": "markdown",
   "metadata": {},
   "source": [
    "### DBSCAN \n",
    "\n",
    "Donner la référence de l'article associé "
   ]
  },
  {
   "cell_type": "code",
   "execution_count": null,
   "metadata": {},
   "outputs": [],
   "source": [
    "from sklearn.cluster import DBSCAN \n",
    "db = DBSCAN(eps = 0.2, min_samples=5, metric = 'euclidean')\n",
    "y_db = db.fit_predict(X)\n",
    "\n",
    "plt.scatter(X[y_db == 0,0], X[y_db == 0,1], c = 'lightgreen', edgecolor = 'black', marker = 's', s = 50, label = 'cluster 1')\n",
    "plt.scatter(X[y_db == 1,0], X[y_db == 1,1], c = 'orange', edgecolor = 'black', marker = 'o', s = 50, label = 'cluster 2')\n",
    "plt.legend(scatterpoints=1)\n",
    "plt.grid()\n",
    "plt.show()\n",
    "\n"
   ]
  },
  {
   "cell_type": "markdown",
   "metadata": {},
   "source": [
    "## Méthode de régression "
   ]
  },
  {
   "cell_type": "code",
   "execution_count": null,
   "metadata": {},
   "outputs": [],
   "source": [
    "import numpy as np\n",
    "from sklearn.linear_model import LinearRegression\n",
    "from sklearn.preprocessing import PolynomialFeatures\n",
    "from sklearn.metrics import mean_squared_error\n",
    "\n",
    "X = np.array([258.0,270.0,294.0,320.0,342.0,368.0,396.0,446.0,480.0,586.0]).reshape(-1,1)\n",
    "y = np.array([236.4,234.4,252.8,298.6,314.2,342.2,360.8,368.0,391.2,390.8]).reshape(-1,1)\n",
    "\n",
    "lr = LinearRegression()\n",
    "pr = LinearRegression()\n",
    "quadratic = PolynomialFeatures(degree=12)\n",
    "X_quad = quadratic.fit_transform(X)\n",
    "lr.fit(X,y)\n",
    "X_fit = np.arange(250,600,2).reshape(-1,1)\n",
    "y_lin_fit = lr.predict(X_fit)\n",
    "pr.fit(X_quad,y)\n",
    "y_quad_fit = pr.predict(quadratic.fit_transform(X_fit))\n",
    "\n",
    "plt.scatter(X,y,label = 'training points')\n",
    "plt.plot(X_fit,y_lin_fit, label = 'linear fit', linestyle = '--')\n",
    "plt.plot(X_fit,y_quad_fit,label = 'quadratic fit')\n",
    "plt.legend(loc = 'upper left')\n",
    "plt.show()\n",
    "\n",
    "y_lin_pred = lr.predict(X)\n",
    "y_quad_pred = pr.predict(X_quad)\n",
    "\n",
    "R1 = mean_squared_error(y,y_lin_pred)\n",
    "R2 = mean_squared_error(y,y_quad_pred)\n",
    "\n",
    "print(R1)\n",
    "print(R2)"
   ]
  },
  {
   "cell_type": "markdown",
   "metadata": {},
   "source": [
    "## Les méthodes supervisées\n",
    "\n",
    "Technique d'apprentissage automatique consistant à apprendre une fonction de prédiction à partir d'exemples annotés."
   ]
  },
  {
   "cell_type": "markdown",
   "metadata": {},
   "source": [
    "### Méthode à Support Vecteur Machine (SVM)\n",
    "\n",
    "Trouver une transformation permettant de linéariser le problème \n",
    "The distance between the support vectors and the hyperplane are as far as possible"
   ]
  },
  {
   "cell_type": "code",
   "execution_count": null,
   "metadata": {},
   "outputs": [],
   "source": [
    "from sklearn import svm\n",
    "\n",
    "X,y = make_blobs(n_samples = 250, n_features = 2, centers = 2, cluster_std = 0.5, shuffle=True, random_state = 0)\n",
    "plt.scatter(X[:,0],X[:,1], c= 'white', marker = 'o', edgecolor = 'black', s = 50)\n",
    "plt.grid()\n",
    "km = KMeans(n_clusters=2,init = 'random', max_iter = 300,tol = 1e-04,random_state=0)\n",
    "y_km = km.fit_predict(X)\n",
    "plt.scatter(X[y_km == 0,0],X[y_km == 0,1], s=50, c='lightgreen', marker = 's', edgecolor = 'black',label= 'cluster 1')\n",
    "plt.scatter(X[y_km == 1,0],X[y_km == 1,1], s=50, c='orange', marker = 'o', edgecolor = 'black',label= 'cluster 2')\n",
    "plt.legend(scatterpoints=1)\n",
    "plt.grid()\n",
    "\n",
    "model = svm.SVC(kernel='linear')\n",
    "model.fit(X,y)\n",
    "\n",
    "w = model.coef_[0]\n",
    "a = -w[0]/w[1]\n",
    "xx = np.linspace(-1,4)\n",
    "yy = a*xx - (model.intercept_[0])/w[1]\n",
    "b = model.support_vectors_[0]\n",
    "yy_down = a * xx + (b[1] - a*b[0])\n",
    "b = model.support_vectors_[-1]\n",
    "yy_up = a * xx + (b[1] - a * b[0]) \n",
    "\n",
    "plt.plot(xx,yy,linewidth = 2, color='black')\n",
    "plt.plot(xx,yy_down, 'k--')\n",
    "plt.plot(xx,yy_up,'k--')\n",
    "plt.scatter(model.support_vectors_[:,0], model.support_vectors_[:,1], s=80, facecolors = 'none')\n",
    "\n"
   ]
  },
  {
   "cell_type": "code",
   "execution_count": null,
   "metadata": {},
   "outputs": [],
   "source": [
    "from sklearn.datasets import make_circles\n",
    "X,y = make_circles(n_samples=600, shuffle=True, noise=0.03, random_state=None, factor=0.6)\n",
    "plt.scatter(X[:,0],X[:,1],c= 'white', marker = 'o', edgecolor = 'black', s = 50)\n",
    "plt.grid()\n",
    "plt.show()"
   ]
  },
  {
   "cell_type": "code",
   "execution_count": null,
   "metadata": {},
   "outputs": [],
   "source": [
    "#model = svm.SVC(kernel='rbf', C= 1, gamma = 2**-5)\n",
    "#model.fit(X,y)\n"
   ]
  },
  {
   "cell_type": "markdown",
   "metadata": {},
   "source": [
    "###  k plus proche voisins (kNN) "
   ]
  },
  {
   "cell_type": "code",
   "execution_count": null,
   "metadata": {},
   "outputs": [],
   "source": []
  },
  {
   "cell_type": "markdown",
   "metadata": {},
   "source": [
    "## Extraction de caractéristiques   "
   ]
  },
  {
   "cell_type": "markdown",
   "metadata": {},
   "source": [
    "### Réduction de la dimension \n",
    "\n",
    "Analyse en composante principale (ACP) \n",
    "\n"
   ]
  },
  {
   "cell_type": "code",
   "execution_count": null,
   "metadata": {},
   "outputs": [],
   "source": []
  }
 ],
 "metadata": {
  "kernelspec": {
   "display_name": "Python 3",
   "language": "python",
   "name": "python3"
  },
  "language_info": {
   "codemirror_mode": {
    "name": "ipython",
    "version": 3
   },
   "file_extension": ".py",
   "mimetype": "text/x-python",
   "name": "python",
   "nbconvert_exporter": "python",
   "pygments_lexer": "ipython3",
   "version": "3.6.10"
  }
 },
 "nbformat": 4,
 "nbformat_minor": 4
}
