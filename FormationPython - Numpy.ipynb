{
 "cells": [
  {
   "cell_type": "markdown",
   "metadata": {},
   "source": [
    "# Librairie Numpy\n",
    "\n",
    "Numpy est une librairie Python orienté pour le calcul scientifique.\n",
    "Les objets sont définis sous forme de tableaux multidimensionnels (ndarray) dont le type doit être similaire à chaque élement. La librairie permet ainsi de construire des vecteurs et des matrices au sens mathématique, pouvant être vus comme des structures de données.\n",
    "La synthaxe est proche du logiciel MATLAB. \n",
    "\n",
    "Numpy utilise les librairies BLAS (Opération de base de l’algèbre linéaire) et LAPACK (équations linéaires, calcul des valeurs propres, décomposition de matrices)\n",
    "\n",
    "\n",
    "Documentation : https://numpy.org/devdocs/\n",
    "\n"
   ]
  },
  {
   "cell_type": "code",
   "execution_count": null,
   "metadata": {},
   "outputs": [],
   "source": [
    "# Importation de la librairie numpy au sein de la session courante \n",
    "import numpy as np"
   ]
  },
  {
   "cell_type": "markdown",
   "metadata": {},
   "source": [
    "## Création de tableaux multidimensionnels (dim 1 : vecteur, dim 2 : matrice)\n",
    "\n",
    "Il existe plusieurs façons de créer des tableaux multidimensionnels "
   ]
  },
  {
   "cell_type": "code",
   "execution_count": null,
   "metadata": {},
   "outputs": [],
   "source": [
    "# Création d'un vecteur ligne [1,2,3]\n",
    "a = np.array([1,2,3])\n",
    "print(a)"
   ]
  },
  {
   "cell_type": "code",
   "execution_count": null,
   "metadata": {},
   "outputs": [],
   "source": [
    "# Création d'une matrice \n",
    "b = np.array([[1,2,3],[4,5,6],[7,8,9]])\n",
    "print(b)"
   ]
  },
  {
   "cell_type": "code",
   "execution_count": null,
   "metadata": {},
   "outputs": [],
   "source": [
    "# Typage des éléments \n",
    "a = np.array([1,2,3], dtype = np.float64)\n",
    "print('a = ', a)\n",
    "b = np.array([1,2,3], dtype = np.int32)\n",
    "print('b = ', b)"
   ]
  },
  {
   "cell_type": "code",
   "execution_count": null,
   "metadata": {},
   "outputs": [],
   "source": [
    "# Initialisation d'un vecteur  \n",
    "c = np.zeros(3) \n",
    "print('c = ', c)\n",
    "e = np.empty(3)\n",
    "print('e = ', e)\n",
    "f = np.ones(3)\n",
    "print('f = ', f)\n",
    "# Initialisation d'une matrice : D(ligne,colonne)\n",
    "D = np.zeros((3,3))\n",
    "print('D = ',D)"
   ]
  },
  {
   "cell_type": "code",
   "execution_count": null,
   "metadata": {},
   "outputs": [],
   "source": [
    "# Création d'un vecteur ligne définie entre -pi et pi avec 100 valeurs uniformément réparties\n",
    "x1 = np.linspace(-np.pi, np.pi, num = 100)\n",
    "print('x1 = ', x1)\n",
    "# Création d'un vecteur ligne définie entre 0.01 et 100 avec 100 valeurs réparties uniformément \n",
    "# sur une échelle logarithmique\n",
    "x2 = np.logspace(-2,2,num =100)\n",
    "print('x2 = ', x2)"
   ]
  },
  {
   "cell_type": "code",
   "execution_count": null,
   "metadata": {},
   "outputs": [],
   "source": [
    "# Création d'un vecteur dont les éléments sont uniformément réparties par un pas à définir\n",
    "x3 = np.arange(0,5,step = 1)\n",
    "print('x3 = ', x3)\n",
    "x4 = np.arange(0,5, step = 2)\n",
    "print('x4 = ', x4)"
   ]
  },
  {
   "cell_type": "code",
   "execution_count": null,
   "metadata": {},
   "outputs": [],
   "source": [
    "# Vérification de la dimension de la matrice \n",
    "v = np.arange(0,5)\n",
    "M = np.zeros((3,4))\n",
    "print('v = ', v)\n",
    "print('M = ', M)\n",
    "# Nombre d'élements\n",
    "print('# d\\'éléments de M par np.size : ', np.size(M))\n",
    "print('# d\\'éléments de v par np.size : ', np.size(v))\n",
    "# Nombre de lignes\n",
    "print('# de lignes de M par np.size : ', np.size(M, axis = 0))\n",
    "print('# d\\'éléments de v par np.size : ', np.size(v, axis = 0))\n",
    "# Nombre de colonnes\n",
    "print('# de colonnes de M par np.size : ', np.size(M, axis = 1))\n",
    "# Dimension de la matrice \n",
    "print('Dimension de M avec np.shape :', np.shape(M))\n",
    "print('Dimension de v avec np.shape : ', np.shape(v))"
   ]
  },
  {
   "cell_type": "markdown",
   "metadata": {},
   "source": [
    "## Un peu d'instructions et de fonctions  \n",
    "\n",
    "Comme tout les langages informatiques, Python possède les instructions classiques (for, while, if) et permet également de créer nos propres fonctions."
   ]
  },
  {
   "cell_type": "markdown",
   "metadata": {},
   "source": [
    "### Instructions : for, if, while "
   ]
  },
  {
   "cell_type": "code",
   "execution_count": null,
   "metadata": {},
   "outputs": [],
   "source": [
    "# Boucle for \n",
    "n = 4 \n",
    "c = np.arange(n)\n",
    "print('c avant boucle : ', c)\n",
    "for i in range(n):\n",
    "        print('i = ', i)\n",
    "        c[i] = c[i]**2 \n",
    "        \n",
    "print('c après boucle : ', c)"
   ]
  },
  {
   "cell_type": "code",
   "execution_count": null,
   "metadata": {},
   "outputs": [],
   "source": [
    "# Boucle if \n",
    "n = 6\n",
    "c = np.arange(n)\n",
    "print('c avant boucle : ', c)\n",
    "for i in range(n):\n",
    "    if(c[i] < 3): \n",
    "        c[i] = 0\n",
    "    else:\n",
    "        c[i] = 1\n",
    "print('c après boucle : ', c)"
   ]
  },
  {
   "cell_type": "code",
   "execution_count": null,
   "metadata": {},
   "outputs": [],
   "source": [
    "# Boucle while\n",
    "n = 6\n",
    "c = np.arange(n)\n",
    "cpt = 0\n",
    "print('c avant boucle : ', c)\n",
    "while(cpt < 3):\n",
    "    c[cpt] = 0 \n",
    "    cpt = cpt + 1\n",
    "print('c après boucle : ', c)"
   ]
  },
  {
   "cell_type": "markdown",
   "metadata": {},
   "source": [
    "### Fonctions "
   ]
  },
  {
   "cell_type": "code",
   "execution_count": null,
   "metadata": {},
   "outputs": [],
   "source": [
    "# Creation d'une fonction permettant de renvoyer le vecteur dont les élements sont mis à la puissance n\n",
    "def puissance(x,n): \n",
    "    nb = len(x)\n",
    "    for i in range(nb):\n",
    "        x[i] = x[i]**n\n",
    "    return x"
   ]
  },
  {
   "cell_type": "code",
   "execution_count": null,
   "metadata": {},
   "outputs": [],
   "source": [
    "c = np.arange(4)\n",
    "print('Avant fonction : ', c)\n",
    "x1 = puissance(c,2)\n",
    "print('Après fonction : ', x1)"
   ]
  },
  {
   "cell_type": "markdown",
   "metadata": {},
   "source": [
    "## Manipulation des tableaux \n",
    "\n",
    "Il existe de nombreuses fonctions Numpy permettant de manipuler les vecteurs et les matrices (sélection de parties, réarrangement des vecteurs, ...) "
   ]
  },
  {
   "cell_type": "code",
   "execution_count": null,
   "metadata": {},
   "outputs": [],
   "source": [
    "# Création d'un vecteur x de taille 10 et d'une matrice M de taille 5x5\n",
    "x = np.arange(10)\n",
    "M = np.arange(25).reshape(5,5)\n",
    "print(x)\n",
    "print(M)"
   ]
  },
  {
   "cell_type": "markdown",
   "metadata": {},
   "source": [
    "### Indexation\n",
    "\n",
    "Pour réaliser une sélection d'une partie d'un vecteur et d'une matrice : x[deb:fin:pas] et M[deb:fin:pas,deb:fin:pas]"
   ]
  },
  {
   "cell_type": "code",
   "execution_count": null,
   "metadata": {},
   "outputs": [],
   "source": [
    "# Selection d'une partie du vecteur x et de M\n",
    "x1 = x[0:2]\n",
    "print('x1 = ', x1)\n",
    "M1 = M[1:3,3:5]\n",
    "print('M1 = ', M1)"
   ]
  },
  {
   "cell_type": "code",
   "execution_count": null,
   "metadata": {},
   "outputs": [],
   "source": [
    "# Modification d'une partie du vecteur x \n",
    "print('x avant modification : ', x)\n",
    "x[0:4] = 0 \n",
    "print('x après modification : ', x)\n",
    "# Modification d'une partie non continue du vecteur x (ici pas de 2) \n",
    "x[0:-1:2] = -1 \n",
    "print('x après la seconde modification : ', x)"
   ]
  },
  {
   "cell_type": "markdown",
   "metadata": {},
   "source": [
    "### Changement de taille \n",
    "\n",
    "Pour changer la taille d'un vecteur et d'une matrice, on utilise la fonction reshape"
   ]
  },
  {
   "cell_type": "code",
   "execution_count": null,
   "metadata": {},
   "outputs": [],
   "source": [
    "x = np.arange(0,5)\n",
    "M = np.arange(9).reshape(3,3)"
   ]
  },
  {
   "cell_type": "code",
   "execution_count": null,
   "metadata": {},
   "outputs": [],
   "source": [
    "# Transformation en un vecteur colonne\n",
    "print('x avant reshape', x)\n",
    "x.reshape(-1,1)\n",
    "print('x après reshape : ', x.reshape(-1,1))\n",
    "# Transformation d'une matrice en vecteur ligne\n",
    "print('M avant reshape : ', M)\n",
    "M.reshape(1,9)\n",
    "print('M après reshape : ', M.reshape(1,9))\n",
    "# Transformation d'un vecteur en matrice\n",
    "x = np.arange(9)\n",
    "print('x avant reshape :', x)\n",
    "x.reshape(3,3)\n",
    "print('x après reshape', x.reshape(3,3))"
   ]
  },
  {
   "cell_type": "markdown",
   "metadata": {},
   "source": [
    "### Concatenation"
   ]
  },
  {
   "cell_type": "code",
   "execution_count": null,
   "metadata": {},
   "outputs": [],
   "source": [
    "x = np.arange(4)\n",
    "y = np.ones(4)\n",
    "print('x = ', x)\n",
    "print('y = ', y)\n",
    "\n",
    "z = np.concatenate((x,y))\n",
    "print('z = ', z)"
   ]
  },
  {
   "cell_type": "markdown",
   "metadata": {},
   "source": [
    "### Transformations et calcul scientifique sur les vecteurs/matrices  \n",
    "\n",
    "Comme en Matlab, Python permet de réaliser des calculs sur les vecteurs et les matrices élements par élements. \n",
    "De plus, la librairie Numpy possède de nombreuses fonctions permettant de faire de l'alèbre linéaire (calcul de norme, produit scalaire, résolution de système linéaire, calcul du déterminant d'une matrice, ...)  \n",
    "\n",
    "Pour en savoir plus : https://docs.scipy.org/doc/numpy/reference/routines.linalg.html"
   ]
  },
  {
   "cell_type": "code",
   "execution_count": null,
   "metadata": {},
   "outputs": [],
   "source": [
    "x = np.arange(3)\n",
    "y = -x\n",
    "M = np.arange(9).reshape(3,3)"
   ]
  },
  {
   "cell_type": "code",
   "execution_count": null,
   "metadata": {},
   "outputs": [],
   "source": [
    "# Puissance \n",
    "print('x avant : ', x)\n",
    "x1 = x**2 \n",
    "print('x puissance 2', x)\n",
    "print('M avant :', M1)\n",
    "M1 = M**2\n",
    "print('M puissance 2', M1)\n",
    "x2 = np.power(x,4)\n"
   ]
  },
  {
   "cell_type": "code",
   "execution_count": null,
   "metadata": {},
   "outputs": [],
   "source": [
    "# Produit scalaire \n",
    "s = np.dot(x,y)\n",
    "print('Le produit scalaire de x et y : ', s)"
   ]
  },
  {
   "cell_type": "markdown",
   "metadata": {},
   "source": [
    "## Fonctions Numpy \n",
    "\n",
    "Il existe de nombreuses fonctions associées à la librairie Numpy permettant de manipuler les vecteurs et les matrices.\n",
    "Ces fonctions sont décrites dans la documentation de la librairie : \n",
    "\n",
    "https://docs.scipy.org/doc/numpy/reference/routines.math.html"
   ]
  },
  {
   "cell_type": "code",
   "execution_count": null,
   "metadata": {},
   "outputs": [],
   "source": [
    "from numpy.random import rand\n",
    "x = rand(8)\n",
    "print(x)"
   ]
  },
  {
   "cell_type": "code",
   "execution_count": null,
   "metadata": {},
   "outputs": [],
   "source": [
    "# Calcul de la taille de x\n",
    "nb = np.size(x)\n",
    "print('La taille de x : ', nb)\n",
    "# Calcul de la valeur maximale \n",
    "c1 = np.max(x)\n",
    "print('La valeur maximale de x : ', c1)\n",
    "# Calcul de la position (indice) de la valeur maximale\n",
    "c2 = np.argmax(x)\n",
    "print('La position de cette valeur dans x : ', c2)\n",
    "# Calcul de la moyenne\n",
    "c3 = np.mean(x)\n",
    "print('La moyenne des éléments de x : ', c3)\n",
    "# Calcul de la variance \n",
    "c4 = np.var(x)\n",
    "print('La variance des élements de x : ', c4)\n",
    "# Calcul de l'écart type \n",
    "c5 = np.std(x)\n",
    "print('L\\'écart type des élements de x :', c5)"
   ]
  },
  {
   "cell_type": "code",
   "execution_count": null,
   "metadata": {},
   "outputs": [],
   "source": [
    "# Retour des indices vérifiant une ou plusieurs conditions\n",
    "Ind_list = np.where(x > 0.5)[0]\n",
    "print(Ind_list)"
   ]
  },
  {
   "cell_type": "markdown",
   "metadata": {},
   "source": [
    "### Fonctions mathématiques \n",
    "\n",
    "Numpy permet de calculer toute une multitude de fonctions mathématiques  "
   ]
  },
  {
   "cell_type": "code",
   "execution_count": null,
   "metadata": {},
   "outputs": [],
   "source": [
    "x = 0\n",
    "y1 = np.cos(x)\n",
    "print('cos(0) = ', y1)\n",
    "y2 = np.sin(x)\n",
    "print('sin(0) = ', y2)\n",
    "y3 = np.exp(x)\n",
    "print('exp(0) = ', y3)\n",
    "x = 1\n",
    "y4 = np.log(x)\n",
    "print('log(1) = ', y4)\n",
    "x = 4\n",
    "y5 = np.sqrt(x)\n",
    "print('sqrt(4) = ', y5)"
   ]
  },
  {
   "cell_type": "markdown",
   "metadata": {},
   "source": [
    "# Matplotlib \n",
    "\n",
    "La librairie Matplotlib est une librairie permettant de tracer et de visualiser les données sous forme graphique. La synthaxe est très proche du logiciel Matlab.\n",
    "\n",
    "La documentation est disponible à l'adresse suivante : \n",
    "https://matplotlib.org/"
   ]
  },
  {
   "cell_type": "code",
   "execution_count": null,
   "metadata": {},
   "outputs": [],
   "source": [
    "import matplotlib.pyplot as plt \n",
    "x = np.linspace(-np.pi, np.pi, num = 200)\n",
    "y1 = np.cos(x)\n",
    "y2 = np.sin(x)\n",
    "y3 = np.exp(x)\n",
    "y4 = np.log(x)"
   ]
  },
  {
   "cell_type": "code",
   "execution_count": null,
   "metadata": {},
   "outputs": [],
   "source": [
    "# Affichage de deux courbes superposées\n",
    "plt.figure(1)\n",
    "plt.plot(x,y1,'go--', linewidth=2, markersize=12, label = 'cosinus')\n",
    "plt.plot(x,y2,'b-', linewidth=1, label = 'sinus')\n",
    "plt.grid()\n",
    "plt.legend()\n",
    "plt.xlim([x[0],x[-1]])\n",
    "plt.xlabel('Espace x')\n",
    "plt.savefig('cos_sin.png', dpi =400)"
   ]
  },
  {
   "cell_type": "code",
   "execution_count": null,
   "metadata": {},
   "outputs": [],
   "source": [
    "# Affichage de plusieurs graphiques \n",
    "plt.figure(2)\n",
    "plt.subplot(121)\n",
    "plt.plot(x,y3,'go--', linewidth=2, markersize=12, label = '$e^{x}$')\n",
    "plt.legend()\n",
    "plt.subplot(122)\n",
    "plt.plot(x,y4,'b-', linewidth=1, label = 'log(x)')\n",
    "plt.legend()"
   ]
  },
  {
   "cell_type": "markdown",
   "metadata": {},
   "source": [
    "# Scipy\n",
    "\n",
    "Scipy est une bibliothèque de calcul scientifique permettant de résoudre de nombreux problèmes mathématiques classiques : intégration, interpolation, optimisation, recherche de zéros, calcul des valeurs et des vecteurs propres, ... \n",
    "Scipy utilise les tableaux multidimensionnels de Numpy.\n",
    "\n",
    "La documentation se trouve ici : https://www.scipy.org/ \n",
    "\n"
   ]
  },
  {
   "cell_type": "code",
   "execution_count": null,
   "metadata": {},
   "outputs": [],
   "source": [
    "# Interpolation d'une fonction  \n",
    "import matplotlib.pyplot as plt\n",
    "from scipy import interpolate\n",
    "\n",
    "x = np.arange(0, 10)\n",
    "y = np.exp(-x/3.0)\n",
    "f = interpolate.interp1d(x, y)\n"
   ]
  },
  {
   "cell_type": "code",
   "execution_count": null,
   "metadata": {},
   "outputs": [],
   "source": [
    "xnew = np.arange(0, 9, 0.1)\n",
    "ynew = f(xnew)\n",
    "plt.plot(x, y, 'o', xnew, ynew, '-')\n",
    "plt.show()"
   ]
  }
 ],
 "metadata": {
  "kernelspec": {
   "display_name": "Python 3",
   "language": "python",
   "name": "python3"
  },
  "language_info": {
   "codemirror_mode": {
    "name": "ipython",
    "version": 3
   },
   "file_extension": ".py",
   "mimetype": "text/x-python",
   "name": "python",
   "nbconvert_exporter": "python",
   "pygments_lexer": "ipython3",
   "version": "3.6.10"
  }
 },
 "nbformat": 4,
 "nbformat_minor": 4
}
