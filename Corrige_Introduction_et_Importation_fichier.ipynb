{
 "cells": [
  {
   "cell_type": "markdown",
   "metadata": {},
   "source": [
    "# Formation Python\n"
   ]
  },
  {
   "cell_type": "markdown",
   "metadata": {},
   "source": [
    "## Introduction Python"
   ]
  },
  {
   "cell_type": "markdown",
   "metadata": {},
   "source": [
    "### 1ère instruction"
   ]
  },
  {
   "cell_type": "markdown",
   "metadata": {},
   "source": [
    "Afficher la valeur de 3+4"
   ]
  },
  {
   "cell_type": "code",
   "execution_count": null,
   "metadata": {},
   "outputs": [],
   "source": [
    "print(3+4)"
   ]
  },
  {
   "cell_type": "markdown",
   "metadata": {},
   "source": [
    "Ajouter notre nom prénom"
   ]
  },
  {
   "cell_type": "code",
   "execution_count": null,
   "metadata": {},
   "outputs": [],
   "source": [
    "print(\"Alexandre\"+\" \"+\"Chevaux\")"
   ]
  },
  {
   "cell_type": "markdown",
   "metadata": {},
   "source": [
    "### Les types de variables"
   ]
  },
  {
   "cell_type": "code",
   "execution_count": null,
   "metadata": {},
   "outputs": [],
   "source": [
    "salaire = 2500\n",
    "prenom = \"Pierre\"\n",
    "prime = False"
   ]
  },
  {
   "cell_type": "markdown",
   "metadata": {},
   "source": [
    "### La condition if\n",
    "A l'aide d'une condition if tester si a est égal à 9"
   ]
  },
  {
   "cell_type": "code",
   "execution_count": null,
   "metadata": {},
   "outputs": [],
   "source": [
    "a=9\n",
    "##Coder ici\n",
    "if a==9:\n",
    "    print(\"C'est égal à 9\") ##Action à effectuer après la condition pas claire "
   ]
  },
  {
   "cell_type": "markdown",
   "metadata": {},
   "source": [
    "### La condition else if\n",
    "Tester si la variable nom est égal à votre nom et sinon à celui de votre voisin."
   ]
  },
  {
   "cell_type": "code",
   "execution_count": null,
   "metadata": {},
   "outputs": [],
   "source": [
    "a=\"Anthony\"\n",
    "if a==\"Alexandre\":\n",
    "    print(\"c'est mon nom!\")\n",
    "elif a==\"Anthony\":\n",
    "    print(\"C'est mon voisin\")"
   ]
  },
  {
   "cell_type": "markdown",
   "metadata": {},
   "source": [
    "### Les boucles for et while"
   ]
  },
  {
   "cell_type": "markdown",
   "metadata": {},
   "source": [
    "A l'aide d'une boucle while tenter de deviner le \"nombreDeBase\""
   ]
  },
  {
   "cell_type": "code",
   "execution_count": null,
   "metadata": {},
   "outputs": [],
   "source": [
    "import random\n",
    "nombreDeBase = random.randint(1,10)\n",
    "a=0\n",
    "while(a!=nombreDeBase):\n",
    "    a=a+1\n",
    "print(a)"
   ]
  },
  {
   "cell_type": "markdown",
   "metadata": {},
   "source": [
    "A l'aide d'une boucle for, sommer les 100 premiers entiers"
   ]
  },
  {
   "cell_type": "code",
   "execution_count": 1,
   "metadata": {},
   "outputs": [
    {
     "name": "stdout",
     "output_type": "stream",
     "text": [
      "5050\n"
     ]
    }
   ],
   "source": [
    "cpt=0\n",
    "for i in range(1,101):\n",
    "    cpt=cpt+i\n",
    "print(cpt)"
   ]
  },
  {
   "cell_type": "markdown",
   "metadata": {},
   "source": [
    "### Les chaines de caractères "
   ]
  },
  {
   "cell_type": "markdown",
   "metadata": {},
   "source": [
    "Retourner le moins long des deux mots suivants"
   ]
  },
  {
   "cell_type": "code",
   "execution_count": null,
   "metadata": {},
   "outputs": [],
   "source": [
    "a=\"python\"\n",
    "b=\"java\"\n",
    "if len(a)>len(b):\n",
    "    print(a)\n",
    "else:\n",
    "    print(b)"
   ]
  },
  {
   "cell_type": "markdown",
   "metadata": {},
   "source": [
    "Retourner l'index du premier \"x\" dans la chaine de caractères suivante"
   ]
  },
  {
   "cell_type": "code",
   "execution_count": null,
   "metadata": {},
   "outputs": [],
   "source": [
    "chaine_de_caractere=\"Bial X, expert en décisionnel\"\n",
    "indice=0\n",
    "for (i,elt) in enumerate(chaine_de_caractere):\n",
    "    if elt==\"x\":\n",
    "        indice=i\n",
    "print(indice)"
   ]
  },
  {
   "cell_type": "markdown",
   "metadata": {},
   "source": [
    "### Les listes"
   ]
  },
  {
   "cell_type": "markdown",
   "metadata": {},
   "source": [
    "Faites une liste de 3 noms de fruits"
   ]
  },
  {
   "cell_type": "code",
   "execution_count": null,
   "metadata": {},
   "outputs": [],
   "source": [
    "fruit=[\"pomme\",\"poire\",\"banane\"]"
   ]
  },
  {
   "cell_type": "markdown",
   "metadata": {},
   "source": [
    "Ajouter y un autre"
   ]
  },
  {
   "cell_type": "code",
   "execution_count": null,
   "metadata": {},
   "outputs": [],
   "source": [
    "fruit.append(\"fraise\")"
   ]
  },
  {
   "cell_type": "markdown",
   "metadata": {},
   "source": [
    "Faites une liste de légumes et ajouter les deux listes"
   ]
  },
  {
   "cell_type": "code",
   "execution_count": null,
   "metadata": {},
   "outputs": [],
   "source": [
    "legume=[\"courgette\",\"tomate\",\"avocat\"]\n",
    "marche=legume+fruit\n",
    "print(marche)"
   ]
  },
  {
   "cell_type": "markdown",
   "metadata": {},
   "source": [
    "Parcourir la liste suivante et sommer les nombres divisibles par 2"
   ]
  },
  {
   "cell_type": "code",
   "execution_count": null,
   "metadata": {},
   "outputs": [],
   "source": [
    "lst=[5,6,8,99,2,90,12,3,4,69,74,23]\n",
    "cpt=0\n",
    "for i in lst:\n",
    "    if i%2==0:\n",
    "        cpt=cpt+i\n",
    "print(cpt)"
   ]
  },
  {
   "cell_type": "markdown",
   "metadata": {},
   "source": [
    "### Les bibliothèques "
   ]
  },
  {
   "cell_type": "markdown",
   "metadata": {},
   "source": [
    "Importer la bibliothèque pandas et numpy"
   ]
  },
  {
   "cell_type": "code",
   "execution_count": null,
   "metadata": {},
   "outputs": [],
   "source": [
    "import pandas \n",
    "import numpy"
   ]
  },
  {
   "cell_type": "markdown",
   "metadata": {},
   "source": [
    "### Les Dataframe pandas "
   ]
  },
  {
   "cell_type": "markdown",
   "metadata": {},
   "source": [
    "Créer un Dataframe avec des noms,prénoms, date de naissance et taille"
   ]
  },
  {
   "cell_type": "code",
   "execution_count": 2,
   "metadata": {},
   "outputs": [
    {
     "name": "stdout",
     "output_type": "stream",
     "text": [
      "         date      nom     prénom  taille\n",
      "0  1995-09-24  De Smet  Alexandre     178\n",
      "1  1990-02-13   Crétet    Timothé     183\n",
      "2  1950-09-12   Dupont    Anthony     167\n",
      "3  2000-01-03   Martin     Audrey     190\n",
      "4  2000-01-03     Emin       Anne     200\n"
     ]
    }
   ],
   "source": [
    "import pandas\n",
    "l = [ { \"prénom\":\"Alexandre\", \"nom\":\"De Smet\", \"date\":\"1995-09-24\",\"taille\":178 },\n",
    "       {\"prénom\":\"Timothé\", \"nom\":\"Crétet\", \"date\":\"1990-02-13\",\"taille\":183 },\n",
    "    {\"prénom\":\"Anthony\", \"nom\":\"Dupont\", \"date\":\"1950-09-12\",\"taille\":167},\n",
    "    {\"prénom\":\"Audrey\", \"nom\":\"Martin\", \"date\":\"2000-01-03\",\"taille\":190},\n",
    "    {\"prénom\":\"Anne\", \"nom\":\"Emin\", \"date\":\"2000-01-03\",\"taille\":200},]\n",
    "df = pandas.DataFrame(l)\n",
    "print(df)"
   ]
  },
  {
   "cell_type": "markdown",
   "metadata": {},
   "source": [
    "Afficher la colonne des tailles\n",
    "puis afficher dans le même temps la colonne des noms et prénoms"
   ]
  },
  {
   "cell_type": "code",
   "execution_count": null,
   "metadata": {},
   "outputs": [],
   "source": [
    "print(df[\"taille\"])\n",
    "df[[\"nom\",\"prénom\"]]"
   ]
  },
  {
   "cell_type": "markdown",
   "metadata": {},
   "source": [
    "Afficher les deux 1ères lignes\n",
    "\n",
    "Afficher les 3 dernières lignes\n",
    "\n",
    "Afficher les colonnes 2 et 3"
   ]
  },
  {
   "cell_type": "code",
   "execution_count": null,
   "metadata": {},
   "outputs": [],
   "source": [
    "df.iloc[0:2]\n",
    "df.iloc[-3:,:]\n",
    "df.iloc[:,2:4]"
   ]
  },
  {
   "cell_type": "markdown",
   "metadata": {},
   "source": [
    "Afficher les personnes de plus de 1 mètres 80"
   ]
  },
  {
   "cell_type": "code",
   "execution_count": null,
   "metadata": {},
   "outputs": [],
   "source": [
    "df.loc[(df['taille']>180)]"
   ]
  },
  {
   "cell_type": "markdown",
   "metadata": {},
   "source": [
    "Afficher les personnes nés dans les année 1990"
   ]
  },
  {
   "cell_type": "code",
   "execution_count": 3,
   "metadata": {},
   "outputs": [
    {
     "data": {
      "text/html": [
       "<div>\n",
       "<style scoped>\n",
       "    .dataframe tbody tr th:only-of-type {\n",
       "        vertical-align: middle;\n",
       "    }\n",
       "\n",
       "    .dataframe tbody tr th {\n",
       "        vertical-align: top;\n",
       "    }\n",
       "\n",
       "    .dataframe thead th {\n",
       "        text-align: right;\n",
       "    }\n",
       "</style>\n",
       "<table border=\"1\" class=\"dataframe\">\n",
       "  <thead>\n",
       "    <tr style=\"text-align: right;\">\n",
       "      <th></th>\n",
       "      <th>date</th>\n",
       "      <th>nom</th>\n",
       "      <th>prénom</th>\n",
       "      <th>taille</th>\n",
       "    </tr>\n",
       "  </thead>\n",
       "  <tbody>\n",
       "    <tr>\n",
       "      <th>0</th>\n",
       "      <td>1995-09-24</td>\n",
       "      <td>De Smet</td>\n",
       "      <td>Alexandre</td>\n",
       "      <td>178</td>\n",
       "    </tr>\n",
       "    <tr>\n",
       "      <th>1</th>\n",
       "      <td>1990-02-13</td>\n",
       "      <td>Crétet</td>\n",
       "      <td>Timothé</td>\n",
       "      <td>183</td>\n",
       "    </tr>\n",
       "  </tbody>\n",
       "</table>\n",
       "</div>"
      ],
      "text/plain": [
       "         date      nom     prénom  taille\n",
       "0  1995-09-24  De Smet  Alexandre     178\n",
       "1  1990-02-13   Crétet    Timothé     183"
      ]
     },
     "execution_count": 3,
     "metadata": {},
     "output_type": "execute_result"
    }
   ],
   "source": [
    "df.loc[df['date'].str.contains('199.-..-..', regex=True)]"
   ]
  },
  {
   "cell_type": "markdown",
   "metadata": {},
   "source": [
    "Faire une fonction qui le produit de 2 nombres"
   ]
  },
  {
   "cell_type": "code",
   "execution_count": null,
   "metadata": {},
   "outputs": [],
   "source": [
    "def produit(a,b):\n",
    "    return a*b\n",
    "print(produit(3,4))"
   ]
  },
  {
   "cell_type": "markdown",
   "metadata": {},
   "source": [
    "Faire une fonction factoriel"
   ]
  },
  {
   "cell_type": "code",
   "execution_count": null,
   "metadata": {},
   "outputs": [],
   "source": [
    "def factoriel(n):\n",
    "    fact=1\n",
    "    if n==0:\n",
    "        return 0\n",
    "    for i in range(n,1,-1):\n",
    "        fact=i*fact\n",
    "    return fact\n",
    "print(factoriel(1))"
   ]
  }
 ],
 "metadata": {
  "kernelspec": {
   "display_name": "Python3 (Formation)",
   "language": "python",
   "name": "formation"
  },
  "language_info": {
   "codemirror_mode": {
    "name": "ipython",
    "version": 3
   },
   "file_extension": ".py",
   "mimetype": "text/x-python",
   "name": "python",
   "nbconvert_exporter": "python",
   "pygments_lexer": "ipython3",
   "version": "3.7.3"
  },
  "toc": {
   "base_numbering": 1,
   "nav_menu": {},
   "number_sections": true,
   "sideBar": true,
   "skip_h1_title": false,
   "title_cell": "Table of Contents",
   "title_sidebar": "Contents",
   "toc_cell": false,
   "toc_position": {},
   "toc_section_display": true,
   "toc_window_display": true
  },
  "varInspector": {
   "cols": {
    "lenName": 16,
    "lenType": 16,
    "lenVar": 40
   },
   "kernels_config": {
    "python": {
     "delete_cmd_postfix": "",
     "delete_cmd_prefix": "del ",
     "library": "var_list.py",
     "varRefreshCmd": "print(var_dic_list())"
    },
    "r": {
     "delete_cmd_postfix": ") ",
     "delete_cmd_prefix": "rm(",
     "library": "var_list.r",
     "varRefreshCmd": "cat(var_dic_list()) "
    }
   },
   "oldHeight": 122.18751800000001,
   "position": {
    "height": "40px",
    "left": "9.25px",
    "right": "20px",
    "top": "587.969px",
    "width": "257.969px"
   },
   "types_to_exclude": [
    "module",
    "function",
    "builtin_function_or_method",
    "instance",
    "_Feature"
   ],
   "varInspector_section_display": "none",
   "window_display": true
  }
 },
 "nbformat": 4,
 "nbformat_minor": 2
}
